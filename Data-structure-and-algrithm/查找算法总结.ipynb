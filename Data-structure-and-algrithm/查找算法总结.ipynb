{
 "cells": [
  {
   "cell_type": "code",
   "execution_count": 16,
   "metadata": {
    "collapsed": true
   },
   "outputs": [],
   "source": [
    "# 二分查找   \n",
    "'''\n",
    "1. 递归的思想\n",
    "'''\n",
    "def binary_search(ary, key):\n",
    "    n = int(len(ary))\n",
    "    l = 0\n",
    "    r = n-1\n",
    "    while l <r:\n",
    "        mid = int((l+r)/2)\n",
    "        if ary[mid] == key:  return mid\n",
    "        if ary[mid]<key: \n",
    "            l = mid+1\n",
    "        if ary[mid]>key:\n",
    "            r = mid-1\n",
    "    return -1"
   ]
  },
  {
   "cell_type": "code",
   "execution_count": 17,
   "metadata": {},
   "outputs": [
    {
     "name": "stdout",
     "output_type": "stream",
     "text": [
      "7\n"
     ]
    }
   ],
   "source": [
    "ary = [1,2,3,4,5,6,7,8,9]\n",
    "print (binary_search(ary, 8))"
   ]
  },
  {
   "cell_type": "code",
   "execution_count": 26,
   "metadata": {},
   "outputs": [
    {
     "name": "stdout",
     "output_type": "stream",
     "text": [
      "None\n"
     ]
    }
   ],
   "source": [
    "def quick_sort(ary):\n",
    "    qsort(ary, 0, len(ary)-1)\n",
    "def qsort(ary, left, right):\n",
    "    if left>right: return ary\n",
    "    key = ary[left]\n",
    "    lp=left\n",
    "    rp = right\n",
    "    while lp<rp:\n",
    "        if ary[rp]>=key and lp<rp:\n",
    "            rp = rp-1\n",
    "        if ary[lp]<=key and lp<rp:\n",
    "            lp=lp+1\n",
    "        ary[lp], ary[rp] = ary[rp], ary[lp]\n",
    "    ary[left], ary[lp] = ary[lp], ary[left]\n",
    "    qsort(ary, left, lp-1)\n",
    "    qsort(ary, rp+1, right)\n",
    "    return ary\n",
    "ary = [3,6,8,9,10,1,2]\n",
    "print (quick_sort(ary))"
   ]
  },
  {
   "cell_type": "code",
   "execution_count": 25,
   "metadata": {},
   "outputs": [
    {
     "name": "stdout",
     "output_type": "stream",
     "text": [
      "None\n"
     ]
    }
   ],
   "source": [
    "def max_heapify(ary, start ,end):\n",
    "    root = start\n",
    "    while True:\n",
    "        child = start*2+1\n",
    "        if child>end:break\n",
    "        if child+1<=end and ary[child]<ary[child+1]:\n",
    "            child = child+1\n",
    "        if ary[child]< ary[root]:\n",
    "            ary[child],ary[root] = ary[root], ary[child]\n",
    "            root = child\n",
    "        else:\n",
    "            break\n",
    "\n",
    "def heapify(ary):\n",
    "    n = len(ary)\n",
    "    first = len(ary)/2-1\n",
    "    for start in range(n, -1, -1):\n",
    "        max_heapify(ary, start, n-1)\n",
    "    for end in range (n-1, 0, -1):\n",
    "        ary[end] ,ary[0] = ary[0], ary[end]\n",
    "        max_heapify(ary, 0, end-1)\n",
    "        "
   ]
  }
 ],
 "metadata": {
  "kernelspec": {
   "display_name": "Python 3",
   "language": "python",
   "name": "python3"
  },
  "language_info": {
   "codemirror_mode": {
    "name": "ipython",
    "version": 3
   },
   "file_extension": ".py",
   "mimetype": "text/x-python",
   "name": "python",
   "nbconvert_exporter": "python",
   "pygments_lexer": "ipython3",
   "version": "3.6.3"
  }
 },
 "nbformat": 4,
 "nbformat_minor": 2
}
