{
 "cells": [
  {
   "cell_type": "code",
   "execution_count": 32,
   "metadata": {
    "collapsed": true
   },
   "outputs": [],
   "source": [
    "#动态规划\n",
    "#有10个工人挖五个金矿， 金矿1 400金/5人 金矿2 500金/5人  金矿3 200金/3人  金矿4 300金/4人  金矿5 350金/3人\n",
    "n =5  # 金矿总个数\n",
    "w = 10  # 工人总数\n",
    "g = [400, 500, 200, 300, 350]  #金矿含金量\n",
    "p = [5, 5, 3, 4, 3]   #金矿需要人数"
   ]
  },
  {
   "cell_type": "code",
   "execution_count": 47,
   "metadata": {
    "collapsed": true
   },
   "outputs": [],
   "source": [
    "def get_most_gold():\n",
    "    preresults = [0]*10\n",
    "    results = [0]*10\n",
    "    #只有一个金矿时\n",
    "    for k in range (w):\n",
    "        if k<p[0]:\n",
    "            preresults[k] = 0\n",
    "        else:\n",
    "            preresults[k] = g[0]\n",
    "    print (preresults)\n",
    "    for i in range(n): #金矿个数\n",
    "        for j in range(w): #工人人数\n",
    "            if j < p[i]:\n",
    "                results[j] = preresults[j]\n",
    "            else:\n",
    "                results[j] = max(preresults[j], preresults[j-p[i]]+g[i])\n",
    "        print (results)\n",
    "        preresults = results\n",
    "    return results[9]        "
   ]
  },
  {
   "cell_type": "code",
   "execution_count": 48,
   "metadata": {},
   "outputs": [
    {
     "name": "stdout",
     "output_type": "stream",
     "text": [
      "[0, 0, 0, 0, 0, 400, 400, 400, 400, 400]\n",
      "[0, 0, 0, 0, 0, 400, 400, 400, 400, 400]\n",
      "[0, 0, 0, 0, 0, 500, 500, 500, 500, 500]\n",
      "[0, 0, 0, 200, 200, 500, 500, 500, 700, 700]\n",
      "[0, 0, 0, 200, 300, 500, 500, 500, 700, 800]\n",
      "[0, 0, 0, 350, 350, 500, 700, 700, 850, 1050]\n",
      "1050\n"
     ]
    }
   ],
   "source": [
    "print (get_most_gold())"
   ]
  },
  {
   "cell_type": "code",
   "execution_count": 49,
   "metadata": {
    "collapsed": true
   },
   "outputs": [],
   "source": [
    "# 链表反转\n",
    "class ListNode(object):\n",
    "    def __init__(self,x):\n",
    "        self.val = x\n",
    "        self.next = None\n",
    "# 递归\n",
    "def reverselist(head):\n",
    "    if head is None or head.next is None:\n",
    "        return head\n",
    "    rehead = reverselist(head.next)\n",
    "    head.next.next = head\n",
    "    head.next=None\n",
    "    return rehead"
   ]
  },
  {
   "cell_type": "code",
   "execution_count": 55,
   "metadata": {
    "collapsed": true
   },
   "outputs": [],
   "source": [
    "#迭代\n",
    "def reverselist1(head):\n",
    "    if head is None:\n",
    "        return head\n",
    "    else:\n",
    "        pre = None\n",
    "        while head:\n",
    "            curr = head\n",
    "            head = head.next\n",
    "            curr.next = pre\n",
    "            pre = curr\n",
    "    return pre"
   ]
  },
  {
   "cell_type": "code",
   "execution_count": 57,
   "metadata": {
    "collapsed": true
   },
   "outputs": [],
   "source": [
    "#测试\n",
    "a1 = ListNode(0)\n",
    "a2 = ListNode(1)\n",
    "a3 = ListNode(2)\n",
    "a4 = ListNode(3)\n",
    "a1.next = a2\n",
    "a2.next = a3\n",
    "a3.next =a4"
   ]
  },
  {
   "cell_type": "code",
   "execution_count": 58,
   "metadata": {},
   "outputs": [
    {
     "name": "stdout",
     "output_type": "stream",
     "text": [
      "3\n"
     ]
    }
   ],
   "source": [
    "rehead = reverselist1(a1)\n",
    "print (rehead.val)"
   ]
  }
 ],
 "metadata": {
  "kernelspec": {
   "display_name": "Python 3",
   "language": "python",
   "name": "python3"
  },
  "language_info": {
   "codemirror_mode": {
    "name": "ipython",
    "version": 3
   },
   "file_extension": ".py",
   "mimetype": "text/x-python",
   "name": "python",
   "nbconvert_exporter": "python",
   "pygments_lexer": "ipython3",
   "version": "3.6.3"
  }
 },
 "nbformat": 4,
 "nbformat_minor": 2
}
