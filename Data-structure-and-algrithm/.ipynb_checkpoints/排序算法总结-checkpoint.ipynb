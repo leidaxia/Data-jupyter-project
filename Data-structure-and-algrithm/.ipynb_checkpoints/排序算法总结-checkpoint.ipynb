{
 "cells": [
  {
   "cell_type": "code",
   "execution_count": null,
   "metadata": {
    "collapsed": true
   },
   "outputs": [],
   "source": [
    "#排序算法"
   ]
  },
  {
   "cell_type": "code",
   "execution_count": 20,
   "metadata": {
    "collapsed": true
   },
   "outputs": [],
   "source": [
    "#冒泡排序\n",
    "'''\n",
    "步骤：\n",
    "比较相邻的元素。如果第一个比第二个大，就交换他们两个。\n",
    "对第0个到第n-1个数据做同样的工作。这时，最大的数就“浮”到了数组最后的位置上。\n",
    "针对所有的元素重复以上的步骤，除了最后一个。\n",
    "持续每次对越来越少的元素重复上面的步骤，直到没有任何一对数字需要比较。\n",
    "'''\n",
    "def bubble_sort(arr):\n",
    "    n = len(arr)\n",
    "    for i in range(n):\n",
    "        for j in range(1,n-i):\n",
    "            if arr[j-1] > arr[j]:\n",
    "                arr[j],arr[j-1] = arr[j-1], arr[j]   \n",
    "    return arr"
   ]
  },
  {
   "cell_type": "code",
   "execution_count": 21,
   "metadata": {},
   "outputs": [
    {
     "name": "stdout",
     "output_type": "stream",
     "text": [
      "[1, 3, 4, 5, 6, 7, 9]\n"
     ]
    }
   ],
   "source": [
    "arr = [3,5,1,7,4,9,6]\n",
    "print (bubble_sort(arr))"
   ]
  },
  {
   "cell_type": "code",
   "execution_count": 22,
   "metadata": {
    "collapsed": true
   },
   "outputs": [],
   "source": [
    "#冒泡排序改进1\n",
    "'''\n",
    "优化1：某一趟遍历如果没有数据交换，则说明已经排好序了，因此不用再进行迭代了。用一个标记记录这个状态即可。\n",
    "'''\n",
    "def bubble_sort1(arr):\n",
    "    n = len(arr)\n",
    "    flag = True\n",
    "    for i in range(n):\n",
    "        for j in range(1,n-i):\n",
    "            if arr[j-1] > arr[j]:\n",
    "                arr[j],arr[j-1] = arr[j-1], arr[j]\n",
    "                flag = False\n",
    "    \n",
    "        if flag:\n",
    "            break\n",
    "    return arr"
   ]
  },
  {
   "cell_type": "code",
   "execution_count": 28,
   "metadata": {},
   "outputs": [
    {
     "name": "stdout",
     "output_type": "stream",
     "text": [
      "[1, 3, 3, 4, 5, 6]\n"
     ]
    }
   ],
   "source": [
    "arr = [3,1,3,4,5,6]\n",
    "print (bubble_sort2(arr))"
   ]
  },
  {
   "cell_type": "code",
   "execution_count": 27,
   "metadata": {
    "collapsed": true
   },
   "outputs": [],
   "source": [
    "#冒泡排序2\n",
    "'''\n",
    "记录某次遍历时最后发生数据交换的位置，这个位置之后的数据显然已经有序，不用再排序了。\n",
    "因此通过记录最后发生数据交换的位置就可以确定下次循环的范围了。\n",
    "'''\n",
    "def bubble_sort2(arr):\n",
    "    n = len(arr)\n",
    "    flag = True\n",
    "    k=n\n",
    "    for i in range(n):\n",
    "        for j in range(1,k):\n",
    "            if arr[j-1] > arr[j]:\n",
    "                arr[j],arr[j-1] = arr[j-1], arr[j]\n",
    "                k=j\n",
    "                flag = False\n",
    "    \n",
    "        if flag:\n",
    "            break\n",
    "    return arr"
   ]
  },
  {
   "cell_type": "code",
   "execution_count": 29,
   "metadata": {
    "collapsed": true
   },
   "outputs": [],
   "source": [
    "#选择排序\n",
    "'''\n",
    "步骤：\n",
    "在未排序序列中找到最小（大）元素，存放到排序序列的起始位置。\n",
    "再从剩余未排序元素中继续寻找最小（大）元素，然后放到已排序序列的末尾。\n",
    "以此类推，直到所有元素均排序完毕。\n",
    "'''\n",
    "def select_sort(arr):\n",
    "    n = len(arr)\n",
    "    for i in range(n):\n",
    "        min = i\n",
    "        for j in range(i+1, n):\n",
    "            if arr[j]<arr[min]:  #下标交换\n",
    "                min = j\n",
    "        arr[min], arr[i] = arr[i], arr[min]\n",
    "    return arr  "
   ]
  },
  {
   "cell_type": "code",
   "execution_count": 34,
   "metadata": {},
   "outputs": [
    {
     "name": "stdout",
     "output_type": "stream",
     "text": [
      "[1, 3, 3, 4, 5, 6]\n"
     ]
    }
   ],
   "source": [
    "arr = [3,1,3,4,5,6]\n",
    "print (insert_sort(arr))"
   ]
  },
  {
   "cell_type": "code",
   "execution_count": 33,
   "metadata": {
    "collapsed": true
   },
   "outputs": [],
   "source": [
    "#插入排序\n",
    "'''\n",
    "插入排序的工作原理是，对于每个未排序数据，在已排序序列中从后向前扫描，找到相应位置并插入。\n",
    "\n",
    "步骤：\n",
    "\n",
    "从第一个元素开始，该元素可以认为已经被排序\n",
    "取出下一个元素，在已经排序的元素序列中从后向前扫描\n",
    "如果被扫描的元素（已排序）大于新元素，将该元素后移一位\n",
    "重复步骤3，直到找到已排序的元素小于或者等于新元素的位置\n",
    "将新元素插入到该位置后\n",
    "重复步骤2~5\n",
    "'''\n",
    "def insert_sort(arr):\n",
    "    n = len(arr)\n",
    "    for i in range(1, n):\n",
    "        if arr[i-1]>arr[i]:\n",
    "            temp = arr[i]\n",
    "            index = i\n",
    "            for j in range(i-1, -1, -1):\n",
    "                if arr[j]>temp:\n",
    "                    arr[j+1] = arr[j]\n",
    "                    index =j\n",
    "                else:\n",
    "                    break\n",
    "        arr[index] = temp\n",
    "    return arr"
   ]
  },
  {
   "cell_type": "code",
   "execution_count": null,
   "metadata": {
    "collapsed": true
   },
   "outputs": [],
   "source": [
    "#希尔排序\n",
    "'''\n",
    "希尔排序的基本思想是：将数组列在一个表中并对列分别进行插入排序，\n",
    "重复这过程，不过每次用更长的列（步长更长了，列数更少了）来进行。\n",
    "最后整个表就只有一列了。将数组转换至表是为了更好地理解这算法，算法本身还是使用数组进行排序。\n",
    "'''\n",
    "def shell_sort(arr):\n",
    "    n = len(arr)\n",
    "    gap = round(n/2)\n",
    "    while gap>0:\n",
    "        for i in range(gap, n):\n",
    "            \n",
    "        \n",
    "    "
   ]
  }
 ],
 "metadata": {
  "kernelspec": {
   "display_name": "Python 3",
   "language": "python",
   "name": "python3"
  },
  "language_info": {
   "codemirror_mode": {
    "name": "ipython",
    "version": 3
   },
   "file_extension": ".py",
   "mimetype": "text/x-python",
   "name": "python",
   "nbconvert_exporter": "python",
   "pygments_lexer": "ipython3",
   "version": "3.6.3"
  }
 },
 "nbformat": 4,
 "nbformat_minor": 2
}
